{
  "nbformat": 4,
  "nbformat_minor": 0,
  "metadata": {
    "colab": {
      "provenance": []
    },
    "kernelspec": {
      "name": "python3",
      "display_name": "Python 3"
    },
    "language_info": {
      "name": "python"
    }
  },
  "cells": [
    {
      "cell_type": "code",
      "execution_count": 27,
      "metadata": {
        "colab": {
          "base_uri": "https://localhost:8080/"
        },
        "id": "nOmOQD4YLIvR",
        "outputId": "1b96be6c-5a83-47af-96e0-9bf7828991a3"
      },
      "outputs": [
        {
          "output_type": "stream",
          "name": "stdout",
          "text": [
            "Drive already mounted at /content/drive; to attempt to forcibly remount, call drive.mount(\"/content/drive\", force_remount=True).\n"
          ]
        }
      ],
      "source": [
        "from google.colab import drive\n",
        "drive.mount(\"/content/drive\")"
      ]
    },
    {
      "cell_type": "code",
      "source": [
        "import pandas as pd\n",
        "import numpy as np\n",
        "import seaborn as sns\n",
        "from sklearn.impute import SimpleImputer\n",
        "import matplotlib.pyplot as plt\n",
        "from sklearn.model_selection import train_test_split\n",
        "from sklearn.preprocessing import StandardScaler\n",
        "\n",
        "\n",
        "from sklearn.metrics import accuracy_score, precision_score, recall_score, f1_score\n"
      ],
      "metadata": {
        "id": "R5yzAGrbWmV-"
      },
      "execution_count": 45,
      "outputs": []
    },
    {
      "cell_type": "code",
      "source": [],
      "metadata": {
        "id": "5ulHVWWZbhVu"
      },
      "execution_count": null,
      "outputs": []
    },
    {
      "cell_type": "code",
      "source": [
        "data = pd.read_csv(\"/content/drive/MyDrive/NIELIT/Project/heart_disease.csv\")\n",
        "print(data)"
      ],
      "metadata": {
        "colab": {
          "base_uri": "https://localhost:8080/"
        },
        "id": "QfT4yHhvWsDF",
        "outputId": "ffcb5637-adb3-4f86-9cdf-2d02f84e8b44"
      },
      "execution_count": 46,
      "outputs": [
        {
          "output_type": "stream",
          "name": "stdout",
          "text": [
            "      Gender  age  currentSmoker  cigsPerDay  BPMeds  prevalentStroke  \\\n",
            "0          1   39              0         0.0     0.0                0   \n",
            "1          0   46              0         0.0     0.0                0   \n",
            "2          1   48              1        20.0     0.0                0   \n",
            "3          0   61              1        30.0     0.0                0   \n",
            "4          0   46              1        23.0     0.0                0   \n",
            "...      ...  ...            ...         ...     ...              ...   \n",
            "4233       1   50              1         1.0     0.0                0   \n",
            "4234       1   51              1        43.0     0.0                0   \n",
            "4235       0   48              1        20.0     NaN                0   \n",
            "4236       0   44              1        15.0     0.0                0   \n",
            "4237       0   52              0         0.0     0.0                0   \n",
            "\n",
            "      prevalentHyp  diabetes  totChol  sysBP  diaBP    BMI  heartRate  \\\n",
            "0                0         0    195.0  106.0   70.0  26.97       80.0   \n",
            "1                0         0    250.0  121.0   81.0  28.73       95.0   \n",
            "2                0         0    245.0  127.5   80.0  25.34       75.0   \n",
            "3                1         0    225.0  150.0   95.0  28.58       65.0   \n",
            "4                0         0    285.0  130.0   84.0  23.10       85.0   \n",
            "...            ...       ...      ...    ...    ...    ...        ...   \n",
            "4233             1         0    313.0  179.0   92.0  25.97       66.0   \n",
            "4234             0         0    207.0  126.5   80.0  19.71       65.0   \n",
            "4235             0         0    248.0  131.0   72.0  22.00       84.0   \n",
            "4236             0         0    210.0  126.5   87.0  19.16       86.0   \n",
            "4237             0         0    269.0  133.5   83.0  21.47       80.0   \n",
            "\n",
            "      glucose  Heart_ stroke  \n",
            "0        77.0              0  \n",
            "1        76.0              0  \n",
            "2        70.0              0  \n",
            "3       103.0              1  \n",
            "4        85.0              0  \n",
            "...       ...            ...  \n",
            "4233     86.0              1  \n",
            "4234     68.0              0  \n",
            "4235     86.0              0  \n",
            "4236      NaN              0  \n",
            "4237    107.0              0  \n",
            "\n",
            "[4238 rows x 15 columns]\n"
          ]
        }
      ]
    },
    {
      "cell_type": "code",
      "source": [
        "# Display the first few rows\n",
        "print(data.head())\n",
        "\n",
        "# Get information about the dataset\n",
        "print(data.info())\n",
        "\n",
        "# Summarize the dataset statistics\n",
        "print(data.describe())\n",
        "\n",
        "# Check for missing values\n",
        "print(data.isnull().sum())\n"
      ],
      "metadata": {
        "colab": {
          "base_uri": "https://localhost:8080/"
        },
        "id": "-EvG2WU25s24",
        "outputId": "a92773f8-9d12-4935-e721-6bbcedc16386"
      },
      "execution_count": 47,
      "outputs": [
        {
          "output_type": "stream",
          "name": "stdout",
          "text": [
            "   Gender  age  currentSmoker  cigsPerDay  BPMeds  prevalentStroke  \\\n",
            "0       1   39              0         0.0     0.0                0   \n",
            "1       0   46              0         0.0     0.0                0   \n",
            "2       1   48              1        20.0     0.0                0   \n",
            "3       0   61              1        30.0     0.0                0   \n",
            "4       0   46              1        23.0     0.0                0   \n",
            "\n",
            "   prevalentHyp  diabetes  totChol  sysBP  diaBP    BMI  heartRate  glucose  \\\n",
            "0             0         0    195.0  106.0   70.0  26.97       80.0     77.0   \n",
            "1             0         0    250.0  121.0   81.0  28.73       95.0     76.0   \n",
            "2             0         0    245.0  127.5   80.0  25.34       75.0     70.0   \n",
            "3             1         0    225.0  150.0   95.0  28.58       65.0    103.0   \n",
            "4             0         0    285.0  130.0   84.0  23.10       85.0     85.0   \n",
            "\n",
            "   Heart_ stroke  \n",
            "0              0  \n",
            "1              0  \n",
            "2              0  \n",
            "3              1  \n",
            "4              0  \n",
            "<class 'pandas.core.frame.DataFrame'>\n",
            "RangeIndex: 4238 entries, 0 to 4237\n",
            "Data columns (total 15 columns):\n",
            " #   Column           Non-Null Count  Dtype  \n",
            "---  ------           --------------  -----  \n",
            " 0   Gender           4238 non-null   int64  \n",
            " 1   age              4238 non-null   int64  \n",
            " 2   currentSmoker    4238 non-null   int64  \n",
            " 3   cigsPerDay       4209 non-null   float64\n",
            " 4   BPMeds           4185 non-null   float64\n",
            " 5   prevalentStroke  4238 non-null   int64  \n",
            " 6   prevalentHyp     4238 non-null   int64  \n",
            " 7   diabetes         4238 non-null   int64  \n",
            " 8   totChol          4188 non-null   float64\n",
            " 9   sysBP            4238 non-null   float64\n",
            " 10  diaBP            4238 non-null   float64\n",
            " 11  BMI              4219 non-null   float64\n",
            " 12  heartRate        4237 non-null   float64\n",
            " 13  glucose          3850 non-null   float64\n",
            " 14  Heart_ stroke    4238 non-null   int64  \n",
            "dtypes: float64(8), int64(7)\n",
            "memory usage: 496.8 KB\n",
            "None\n",
            "            Gender          age  currentSmoker   cigsPerDay       BPMeds  \\\n",
            "count  4238.000000  4238.000000    4238.000000  4209.000000  4185.000000   \n",
            "mean      0.429212    49.584946       0.494101     9.003089     0.029630   \n",
            "std       0.495022     8.572160       0.500024    11.920094     0.169584   \n",
            "min       0.000000    32.000000       0.000000     0.000000     0.000000   \n",
            "25%       0.000000    42.000000       0.000000     0.000000     0.000000   \n",
            "50%       0.000000    49.000000       0.000000     0.000000     0.000000   \n",
            "75%       1.000000    56.000000       1.000000    20.000000     0.000000   \n",
            "max       1.000000    70.000000       1.000000    70.000000     1.000000   \n",
            "\n",
            "       prevalentStroke  prevalentHyp     diabetes      totChol        sysBP  \\\n",
            "count      4238.000000   4238.000000  4238.000000  4188.000000  4238.000000   \n",
            "mean          0.005899      0.310524     0.025720   236.721585   132.352407   \n",
            "std           0.076587      0.462763     0.158316    44.590334    22.038097   \n",
            "min           0.000000      0.000000     0.000000   107.000000    83.500000   \n",
            "25%           0.000000      0.000000     0.000000   206.000000   117.000000   \n",
            "50%           0.000000      0.000000     0.000000   234.000000   128.000000   \n",
            "75%           0.000000      1.000000     0.000000   263.000000   144.000000   \n",
            "max           1.000000      1.000000     1.000000   696.000000   295.000000   \n",
            "\n",
            "             diaBP          BMI    heartRate      glucose  Heart_ stroke  \n",
            "count  4238.000000  4219.000000  4237.000000  3850.000000    4238.000000  \n",
            "mean     82.893464    25.802008    75.878924    81.966753       0.151958  \n",
            "std      11.910850     4.080111    12.026596    23.959998       0.359023  \n",
            "min      48.000000    15.540000    44.000000    40.000000       0.000000  \n",
            "25%      75.000000    23.070000    68.000000    71.000000       0.000000  \n",
            "50%      82.000000    25.400000    75.000000    78.000000       0.000000  \n",
            "75%      89.875000    28.040000    83.000000    87.000000       0.000000  \n",
            "max     142.500000    56.800000   143.000000   394.000000       1.000000  \n",
            "Gender               0\n",
            "age                  0\n",
            "currentSmoker        0\n",
            "cigsPerDay          29\n",
            "BPMeds              53\n",
            "prevalentStroke      0\n",
            "prevalentHyp         0\n",
            "diabetes             0\n",
            "totChol             50\n",
            "sysBP                0\n",
            "diaBP                0\n",
            "BMI                 19\n",
            "heartRate            1\n",
            "glucose            388\n",
            "Heart_ stroke        0\n",
            "dtype: int64\n"
          ]
        }
      ]
    },
    {
      "cell_type": "code",
      "source": [
        "data.fillna(data.mean(), inplace=True)"
      ],
      "metadata": {
        "id": "V-AWNXDn5x_x"
      },
      "execution_count": 48,
      "outputs": []
    },
    {
      "cell_type": "code",
      "source": [
        "X =  data.drop('Heart_ stroke', axis=1)\n",
        "y = data['Heart_ stroke']"
      ],
      "metadata": {
        "id": "6uIj0Owx50GR"
      },
      "execution_count": 49,
      "outputs": []
    },
    {
      "cell_type": "code",
      "source": [
        "from sklearn.model_selection import train_test_split"
      ],
      "metadata": {
        "id": "JEC8Vg-j6uRf"
      },
      "execution_count": 50,
      "outputs": []
    },
    {
      "cell_type": "code",
      "source": [
        "X_train, X_test, y_train, y_test = train_test_split(X, y, test_size=0.2, random_state=42)"
      ],
      "metadata": {
        "id": "sjTR83u96y4P"
      },
      "execution_count": 51,
      "outputs": []
    },
    {
      "cell_type": "code",
      "source": [
        "from sklearn.linear_model import LogisticRegression\n",
        "from sklearn.metrics import accuracy_score"
      ],
      "metadata": {
        "id": "3TgSzHxJ62ZQ"
      },
      "execution_count": 52,
      "outputs": []
    },
    {
      "cell_type": "code",
      "source": [
        "model = LogisticRegression()\n",
        "model.fit(X_train, y_train)\n",
        "y_pred = model.predict(X_test)\n",
        "accuracy = accuracy_score(y_test, y_pred)\n",
        "print(\"Accuracy:\", accuracy)"
      ],
      "metadata": {
        "colab": {
          "base_uri": "https://localhost:8080/"
        },
        "id": "kNCU7QES7B6J",
        "outputId": "bd8dc138-26f8-44ea-d2cf-0aa207812c3d"
      },
      "execution_count": 53,
      "outputs": [
        {
          "output_type": "stream",
          "name": "stdout",
          "text": [
            "Accuracy: 0.8537735849056604\n"
          ]
        },
        {
          "output_type": "stream",
          "name": "stderr",
          "text": [
            "/usr/local/lib/python3.10/dist-packages/sklearn/linear_model/_logistic.py:458: ConvergenceWarning: lbfgs failed to converge (status=1):\n",
            "STOP: TOTAL NO. of ITERATIONS REACHED LIMIT.\n",
            "\n",
            "Increase the number of iterations (max_iter) or scale the data as shown in:\n",
            "    https://scikit-learn.org/stable/modules/preprocessing.html\n",
            "Please also refer to the documentation for alternative solver options:\n",
            "    https://scikit-learn.org/stable/modules/linear_model.html#logistic-regression\n",
            "  n_iter_i = _check_optimize_result(\n"
          ]
        }
      ]
    }
  ]
}