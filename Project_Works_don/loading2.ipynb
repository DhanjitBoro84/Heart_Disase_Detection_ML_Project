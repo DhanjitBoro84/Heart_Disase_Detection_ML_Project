{
  "nbformat": 4,
  "nbformat_minor": 0,
  "metadata": {
    "colab": {
      "provenance": []
    },
    "kernelspec": {
      "name": "python3",
      "display_name": "Python 3"
    },
    "language_info": {
      "name": "python"
    }
  },
  "cells": [
    {
      "cell_type": "code",
      "source": [
        "from google.colab import drive\n",
        "drive.mount('/content/drive')"
      ],
      "metadata": {
        "colab": {
          "base_uri": "https://localhost:8080/"
        },
        "id": "7NOtTAyVzrYx",
        "outputId": "55d16ba1-291f-44a0-9f0e-bba79ef2579a"
      },
      "execution_count": 12,
      "outputs": [
        {
          "output_type": "stream",
          "name": "stdout",
          "text": [
            "Drive already mounted at /content/drive; to attempt to forcibly remount, call drive.mount(\"/content/drive\", force_remount=True).\n"
          ]
        }
      ]
    },
    {
      "cell_type": "code",
      "execution_count": 16,
      "metadata": {
        "id": "1aL8-B_gzTG7"
      },
      "outputs": [],
      "source": [
        "import pickle\n",
        "import numpy as np\n",
        "import pandas as pd\n",
        "from sklearn.preprocessing import MinMaxScaler"
      ]
    },
    {
      "cell_type": "code",
      "source": [
        "loaded_model = pickle.load(open('/content/drive/MyDrive/NIELIT/Heart Disease Prediction/Models/LR_Model', 'rb'))"
      ],
      "metadata": {
        "id": "8D9yBnKWzbf_"
      },
      "execution_count": 14,
      "outputs": []
    },
    {
      "cell_type": "code",
      "source": [
        "input_data = [1,61,0,0,0,0,0,0,246,124,70,25.63,55,78]\n",
        "#change input into a numpy array\n",
        "\n",
        "input_data_as_np_array = np.asarray(input_data)\n",
        "\n",
        "#reshaping the array as prediction is only for 1 instance\n",
        "input_data_reshape = input_data_as_np_array.reshape(1,-1)\n",
        "\n",
        "std_DATA = scaler.transform(input_data_reshape)\n",
        "\n",
        "pred = loaded_model.predict(std_DATA)\n",
        "print(pred)\n",
        "\n",
        "if (pred[0] == 0):\n",
        "  print(\"The person does not have heart disease.\")\n",
        "else:\n",
        "  print(\"The person has heart disease.\")"
      ],
      "metadata": {
        "id": "zyziouvw6FXE"
      },
      "execution_count": 14,
      "outputs": []
    }
  ]
}