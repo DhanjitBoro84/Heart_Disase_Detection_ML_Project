{
  "nbformat": 4,
  "nbformat_minor": 0,
  "metadata": {
    "colab": {
      "provenance": []
    },
    "kernelspec": {
      "name": "python3",
      "display_name": "Python 3"
    },
    "language_info": {
      "name": "python"
    }
  },
  "cells": [
    {
      "cell_type": "code",
      "source": [
        "from google.colab import drive\n",
        "drive.mount('/content/drive')"
      ],
      "metadata": {
        "colab": {
          "base_uri": "https://localhost:8080/"
        },
        "id": "EybkkoR-beYf",
        "outputId": "e4579297-84b3-4d72-a47f-2c137d339777"
      },
      "execution_count": 141,
      "outputs": [
        {
          "output_type": "stream",
          "name": "stdout",
          "text": [
            "Drive already mounted at /content/drive; to attempt to forcibly remount, call drive.mount(\"/content/drive\", force_remount=True).\n"
          ]
        }
      ]
    },
    {
      "cell_type": "code",
      "source": [
        "import numpy as np\n",
        "import pandas as pd\n",
        "import matplotlib.pyplot as plt\n",
        "import seaborn as sns\n",
        "from imblearn.over_sampling import SMOTE"
      ],
      "metadata": {
        "id": "WJIBZdrn1H7V"
      },
      "execution_count": 142,
      "outputs": []
    },
    {
      "cell_type": "code",
      "source": [
        "from sklearn import svm, metrics\n",
        "from sklearn.model_selection import train_test_split\n",
        "from sklearn.preprocessing import MinMaxScaler\n",
        "from sklearn.metrics import accuracy_score"
      ],
      "metadata": {
        "id": "aaKbzKhsOxQM"
      },
      "execution_count": 143,
      "outputs": []
    },
    {
      "cell_type": "code",
      "source": [
        "from sklearn.metrics import accuracy_score, precision_score, recall_score, f1_score, confusion_matrix, mean_squared_error, classification_report"
      ],
      "metadata": {
        "id": "gmOZ_sXVt7L4"
      },
      "execution_count": 144,
      "outputs": []
    },
    {
      "cell_type": "code",
      "source": [
        "data = pd.read_csv('https://github.com/AnonymousCITK/ProjectML/raw/main/heart.csv')\n",
        "# print(data.shape)\n",
        "data.head(100)\n"
      ],
      "metadata": {
        "id": "Iwtsslkf1Xmt",
        "colab": {
          "base_uri": "https://localhost:8080/",
          "height": 423
        },
        "outputId": "1b91338d-029e-4a3f-e8f6-28aaf07b54af"
      },
      "execution_count": 145,
      "outputs": [
        {
          "output_type": "execute_result",
          "data": {
            "text/plain": [
              "    age  sex  cp  trestbps  chol  fbs  restecg  thalach  exang  oldpeak  \\\n",
              "0    52    1   0       125   212    0        1      168      0      1.0   \n",
              "1    53    1   0       140   203    1        0      155      1      3.1   \n",
              "2    70    1   0       145   174    0        1      125      1      2.6   \n",
              "3    61    1   0       148   203    0        1      161      0      0.0   \n",
              "4    62    0   0       138   294    1        1      106      0      1.9   \n",
              "..  ...  ...  ..       ...   ...  ...      ...      ...    ...      ...   \n",
              "95   45    0   0       138   236    0        0      152      1      0.2   \n",
              "96   57    0   0       128   303    0        0      159      0      0.0   \n",
              "97   53    1   0       123   282    0        1       95      1      2.0   \n",
              "98   65    1   0       110   248    0        0      158      0      0.6   \n",
              "99   76    0   2       140   197    0        2      116      0      1.1   \n",
              "\n",
              "    slope  ca  thal  target  \n",
              "0       2   2     3       0  \n",
              "1       0   0     3       0  \n",
              "2       0   0     3       0  \n",
              "3       2   1     3       0  \n",
              "4       1   3     2       0  \n",
              "..    ...  ..   ...     ...  \n",
              "95      1   0     2       1  \n",
              "96      2   1     2       1  \n",
              "97      1   2     3       0  \n",
              "98      2   2     1       0  \n",
              "99      1   0     2       1  \n",
              "\n",
              "[100 rows x 14 columns]"
            ],
            "text/html": [
              "\n",
              "\n",
              "  <div id=\"df-beb91eb4-4bb9-4687-9f02-62f07ba2b8e9\">\n",
              "    <div class=\"colab-df-container\">\n",
              "      <div>\n",
              "<style scoped>\n",
              "    .dataframe tbody tr th:only-of-type {\n",
              "        vertical-align: middle;\n",
              "    }\n",
              "\n",
              "    .dataframe tbody tr th {\n",
              "        vertical-align: top;\n",
              "    }\n",
              "\n",
              "    .dataframe thead th {\n",
              "        text-align: right;\n",
              "    }\n",
              "</style>\n",
              "<table border=\"1\" class=\"dataframe\">\n",
              "  <thead>\n",
              "    <tr style=\"text-align: right;\">\n",
              "      <th></th>\n",
              "      <th>age</th>\n",
              "      <th>sex</th>\n",
              "      <th>cp</th>\n",
              "      <th>trestbps</th>\n",
              "      <th>chol</th>\n",
              "      <th>fbs</th>\n",
              "      <th>restecg</th>\n",
              "      <th>thalach</th>\n",
              "      <th>exang</th>\n",
              "      <th>oldpeak</th>\n",
              "      <th>slope</th>\n",
              "      <th>ca</th>\n",
              "      <th>thal</th>\n",
              "      <th>target</th>\n",
              "    </tr>\n",
              "  </thead>\n",
              "  <tbody>\n",
              "    <tr>\n",
              "      <th>0</th>\n",
              "      <td>52</td>\n",
              "      <td>1</td>\n",
              "      <td>0</td>\n",
              "      <td>125</td>\n",
              "      <td>212</td>\n",
              "      <td>0</td>\n",
              "      <td>1</td>\n",
              "      <td>168</td>\n",
              "      <td>0</td>\n",
              "      <td>1.0</td>\n",
              "      <td>2</td>\n",
              "      <td>2</td>\n",
              "      <td>3</td>\n",
              "      <td>0</td>\n",
              "    </tr>\n",
              "    <tr>\n",
              "      <th>1</th>\n",
              "      <td>53</td>\n",
              "      <td>1</td>\n",
              "      <td>0</td>\n",
              "      <td>140</td>\n",
              "      <td>203</td>\n",
              "      <td>1</td>\n",
              "      <td>0</td>\n",
              "      <td>155</td>\n",
              "      <td>1</td>\n",
              "      <td>3.1</td>\n",
              "      <td>0</td>\n",
              "      <td>0</td>\n",
              "      <td>3</td>\n",
              "      <td>0</td>\n",
              "    </tr>\n",
              "    <tr>\n",
              "      <th>2</th>\n",
              "      <td>70</td>\n",
              "      <td>1</td>\n",
              "      <td>0</td>\n",
              "      <td>145</td>\n",
              "      <td>174</td>\n",
              "      <td>0</td>\n",
              "      <td>1</td>\n",
              "      <td>125</td>\n",
              "      <td>1</td>\n",
              "      <td>2.6</td>\n",
              "      <td>0</td>\n",
              "      <td>0</td>\n",
              "      <td>3</td>\n",
              "      <td>0</td>\n",
              "    </tr>\n",
              "    <tr>\n",
              "      <th>3</th>\n",
              "      <td>61</td>\n",
              "      <td>1</td>\n",
              "      <td>0</td>\n",
              "      <td>148</td>\n",
              "      <td>203</td>\n",
              "      <td>0</td>\n",
              "      <td>1</td>\n",
              "      <td>161</td>\n",
              "      <td>0</td>\n",
              "      <td>0.0</td>\n",
              "      <td>2</td>\n",
              "      <td>1</td>\n",
              "      <td>3</td>\n",
              "      <td>0</td>\n",
              "    </tr>\n",
              "    <tr>\n",
              "      <th>4</th>\n",
              "      <td>62</td>\n",
              "      <td>0</td>\n",
              "      <td>0</td>\n",
              "      <td>138</td>\n",
              "      <td>294</td>\n",
              "      <td>1</td>\n",
              "      <td>1</td>\n",
              "      <td>106</td>\n",
              "      <td>0</td>\n",
              "      <td>1.9</td>\n",
              "      <td>1</td>\n",
              "      <td>3</td>\n",
              "      <td>2</td>\n",
              "      <td>0</td>\n",
              "    </tr>\n",
              "    <tr>\n",
              "      <th>...</th>\n",
              "      <td>...</td>\n",
              "      <td>...</td>\n",
              "      <td>...</td>\n",
              "      <td>...</td>\n",
              "      <td>...</td>\n",
              "      <td>...</td>\n",
              "      <td>...</td>\n",
              "      <td>...</td>\n",
              "      <td>...</td>\n",
              "      <td>...</td>\n",
              "      <td>...</td>\n",
              "      <td>...</td>\n",
              "      <td>...</td>\n",
              "      <td>...</td>\n",
              "    </tr>\n",
              "    <tr>\n",
              "      <th>95</th>\n",
              "      <td>45</td>\n",
              "      <td>0</td>\n",
              "      <td>0</td>\n",
              "      <td>138</td>\n",
              "      <td>236</td>\n",
              "      <td>0</td>\n",
              "      <td>0</td>\n",
              "      <td>152</td>\n",
              "      <td>1</td>\n",
              "      <td>0.2</td>\n",
              "      <td>1</td>\n",
              "      <td>0</td>\n",
              "      <td>2</td>\n",
              "      <td>1</td>\n",
              "    </tr>\n",
              "    <tr>\n",
              "      <th>96</th>\n",
              "      <td>57</td>\n",
              "      <td>0</td>\n",
              "      <td>0</td>\n",
              "      <td>128</td>\n",
              "      <td>303</td>\n",
              "      <td>0</td>\n",
              "      <td>0</td>\n",
              "      <td>159</td>\n",
              "      <td>0</td>\n",
              "      <td>0.0</td>\n",
              "      <td>2</td>\n",
              "      <td>1</td>\n",
              "      <td>2</td>\n",
              "      <td>1</td>\n",
              "    </tr>\n",
              "    <tr>\n",
              "      <th>97</th>\n",
              "      <td>53</td>\n",
              "      <td>1</td>\n",
              "      <td>0</td>\n",
              "      <td>123</td>\n",
              "      <td>282</td>\n",
              "      <td>0</td>\n",
              "      <td>1</td>\n",
              "      <td>95</td>\n",
              "      <td>1</td>\n",
              "      <td>2.0</td>\n",
              "      <td>1</td>\n",
              "      <td>2</td>\n",
              "      <td>3</td>\n",
              "      <td>0</td>\n",
              "    </tr>\n",
              "    <tr>\n",
              "      <th>98</th>\n",
              "      <td>65</td>\n",
              "      <td>1</td>\n",
              "      <td>0</td>\n",
              "      <td>110</td>\n",
              "      <td>248</td>\n",
              "      <td>0</td>\n",
              "      <td>0</td>\n",
              "      <td>158</td>\n",
              "      <td>0</td>\n",
              "      <td>0.6</td>\n",
              "      <td>2</td>\n",
              "      <td>2</td>\n",
              "      <td>1</td>\n",
              "      <td>0</td>\n",
              "    </tr>\n",
              "    <tr>\n",
              "      <th>99</th>\n",
              "      <td>76</td>\n",
              "      <td>0</td>\n",
              "      <td>2</td>\n",
              "      <td>140</td>\n",
              "      <td>197</td>\n",
              "      <td>0</td>\n",
              "      <td>2</td>\n",
              "      <td>116</td>\n",
              "      <td>0</td>\n",
              "      <td>1.1</td>\n",
              "      <td>1</td>\n",
              "      <td>0</td>\n",
              "      <td>2</td>\n",
              "      <td>1</td>\n",
              "    </tr>\n",
              "  </tbody>\n",
              "</table>\n",
              "<p>100 rows × 14 columns</p>\n",
              "</div>\n",
              "      <button class=\"colab-df-convert\" onclick=\"convertToInteractive('df-beb91eb4-4bb9-4687-9f02-62f07ba2b8e9')\"\n",
              "              title=\"Convert this dataframe to an interactive table.\"\n",
              "              style=\"display:none;\">\n",
              "\n",
              "  <svg xmlns=\"http://www.w3.org/2000/svg\" height=\"24px\"viewBox=\"0 0 24 24\"\n",
              "       width=\"24px\">\n",
              "    <path d=\"M0 0h24v24H0V0z\" fill=\"none\"/>\n",
              "    <path d=\"M18.56 5.44l.94 2.06.94-2.06 2.06-.94-2.06-.94-.94-2.06-.94 2.06-2.06.94zm-11 1L8.5 8.5l.94-2.06 2.06-.94-2.06-.94L8.5 2.5l-.94 2.06-2.06.94zm10 10l.94 2.06.94-2.06 2.06-.94-2.06-.94-.94-2.06-.94 2.06-2.06.94z\"/><path d=\"M17.41 7.96l-1.37-1.37c-.4-.4-.92-.59-1.43-.59-.52 0-1.04.2-1.43.59L10.3 9.45l-7.72 7.72c-.78.78-.78 2.05 0 2.83L4 21.41c.39.39.9.59 1.41.59.51 0 1.02-.2 1.41-.59l7.78-7.78 2.81-2.81c.8-.78.8-2.07 0-2.86zM5.41 20L4 18.59l7.72-7.72 1.47 1.35L5.41 20z\"/>\n",
              "  </svg>\n",
              "      </button>\n",
              "\n",
              "\n",
              "\n",
              "    <div id=\"df-77567c2f-76b4-44a6-aa41-3d5a38f5c64f\">\n",
              "      <button class=\"colab-df-quickchart\" onclick=\"quickchart('df-77567c2f-76b4-44a6-aa41-3d5a38f5c64f')\"\n",
              "              title=\"Suggest charts.\"\n",
              "              style=\"display:none;\">\n",
              "\n",
              "<svg xmlns=\"http://www.w3.org/2000/svg\" height=\"24px\"viewBox=\"0 0 24 24\"\n",
              "     width=\"24px\">\n",
              "    <g>\n",
              "        <path d=\"M19 3H5c-1.1 0-2 .9-2 2v14c0 1.1.9 2 2 2h14c1.1 0 2-.9 2-2V5c0-1.1-.9-2-2-2zM9 17H7v-7h2v7zm4 0h-2V7h2v10zm4 0h-2v-4h2v4z\"/>\n",
              "    </g>\n",
              "</svg>\n",
              "      </button>\n",
              "    </div>\n",
              "\n",
              "<style>\n",
              "  .colab-df-quickchart {\n",
              "    background-color: #E8F0FE;\n",
              "    border: none;\n",
              "    border-radius: 50%;\n",
              "    cursor: pointer;\n",
              "    display: none;\n",
              "    fill: #1967D2;\n",
              "    height: 32px;\n",
              "    padding: 0 0 0 0;\n",
              "    width: 32px;\n",
              "  }\n",
              "\n",
              "  .colab-df-quickchart:hover {\n",
              "    background-color: #E2EBFA;\n",
              "    box-shadow: 0px 1px 2px rgba(60, 64, 67, 0.3), 0px 1px 3px 1px rgba(60, 64, 67, 0.15);\n",
              "    fill: #174EA6;\n",
              "  }\n",
              "\n",
              "  [theme=dark] .colab-df-quickchart {\n",
              "    background-color: #3B4455;\n",
              "    fill: #D2E3FC;\n",
              "  }\n",
              "\n",
              "  [theme=dark] .colab-df-quickchart:hover {\n",
              "    background-color: #434B5C;\n",
              "    box-shadow: 0px 1px 3px 1px rgba(0, 0, 0, 0.15);\n",
              "    filter: drop-shadow(0px 1px 2px rgba(0, 0, 0, 0.3));\n",
              "    fill: #FFFFFF;\n",
              "  }\n",
              "</style>\n",
              "\n",
              "    <script>\n",
              "      async function quickchart(key) {\n",
              "        const containerElement = document.querySelector('#' + key);\n",
              "        const charts = await google.colab.kernel.invokeFunction(\n",
              "            'suggestCharts', [key], {});\n",
              "      }\n",
              "    </script>\n",
              "\n",
              "      <script>\n",
              "\n",
              "function displayQuickchartButton(domScope) {\n",
              "  let quickchartButtonEl =\n",
              "    domScope.querySelector('#df-77567c2f-76b4-44a6-aa41-3d5a38f5c64f button.colab-df-quickchart');\n",
              "  quickchartButtonEl.style.display =\n",
              "    google.colab.kernel.accessAllowed ? 'block' : 'none';\n",
              "}\n",
              "\n",
              "        displayQuickchartButton(document);\n",
              "      </script>\n",
              "      <style>\n",
              "    .colab-df-container {\n",
              "      display:flex;\n",
              "      flex-wrap:wrap;\n",
              "      gap: 12px;\n",
              "    }\n",
              "\n",
              "    .colab-df-convert {\n",
              "      background-color: #E8F0FE;\n",
              "      border: none;\n",
              "      border-radius: 50%;\n",
              "      cursor: pointer;\n",
              "      display: none;\n",
              "      fill: #1967D2;\n",
              "      height: 32px;\n",
              "      padding: 0 0 0 0;\n",
              "      width: 32px;\n",
              "    }\n",
              "\n",
              "    .colab-df-convert:hover {\n",
              "      background-color: #E2EBFA;\n",
              "      box-shadow: 0px 1px 2px rgba(60, 64, 67, 0.3), 0px 1px 3px 1px rgba(60, 64, 67, 0.15);\n",
              "      fill: #174EA6;\n",
              "    }\n",
              "\n",
              "    [theme=dark] .colab-df-convert {\n",
              "      background-color: #3B4455;\n",
              "      fill: #D2E3FC;\n",
              "    }\n",
              "\n",
              "    [theme=dark] .colab-df-convert:hover {\n",
              "      background-color: #434B5C;\n",
              "      box-shadow: 0px 1px 3px 1px rgba(0, 0, 0, 0.15);\n",
              "      filter: drop-shadow(0px 1px 2px rgba(0, 0, 0, 0.3));\n",
              "      fill: #FFFFFF;\n",
              "    }\n",
              "  </style>\n",
              "\n",
              "      <script>\n",
              "        const buttonEl =\n",
              "          document.querySelector('#df-beb91eb4-4bb9-4687-9f02-62f07ba2b8e9 button.colab-df-convert');\n",
              "        buttonEl.style.display =\n",
              "          google.colab.kernel.accessAllowed ? 'block' : 'none';\n",
              "\n",
              "        async function convertToInteractive(key) {\n",
              "          const element = document.querySelector('#df-beb91eb4-4bb9-4687-9f02-62f07ba2b8e9');\n",
              "          const dataTable =\n",
              "            await google.colab.kernel.invokeFunction('convertToInteractive',\n",
              "                                                     [key], {});\n",
              "          if (!dataTable) return;\n",
              "\n",
              "          const docLinkHtml = 'Like what you see? Visit the ' +\n",
              "            '<a target=\"_blank\" href=https://colab.research.google.com/notebooks/data_table.ipynb>data table notebook</a>'\n",
              "            + ' to learn more about interactive tables.';\n",
              "          element.innerHTML = '';\n",
              "          dataTable['output_type'] = 'display_data';\n",
              "          await google.colab.output.renderOutput(dataTable, element);\n",
              "          const docLink = document.createElement('div');\n",
              "          docLink.innerHTML = docLinkHtml;\n",
              "          element.appendChild(docLink);\n",
              "        }\n",
              "      </script>\n",
              "    </div>\n",
              "  </div>\n"
            ]
          },
          "metadata": {},
          "execution_count": 145
        }
      ]
    },
    {
      "cell_type": "markdown",
      "source": [
        "#[*] Plot the data"
      ],
      "metadata": {
        "id": "24o-sVfo_jQT"
      }
    },
    {
      "cell_type": "code",
      "source": [
        "# plt.scatter(data.age, data.currentSmoker, marker='*', color='green')\n",
        "# plt.scatter(data.age, data.diabetes, marker='*', color='blue')"
      ],
      "metadata": {
        "id": "HxbJX0nvJM8u"
      },
      "execution_count": 146,
      "outputs": []
    },
    {
      "cell_type": "code",
      "source": [
        "# plt.hist(data, histtype='step')\n",
        "# data.hist()\n",
        "# plt.show()"
      ],
      "metadata": {
        "id": "A_EZ2VMkWtq7"
      },
      "execution_count": 147,
      "outputs": []
    },
    {
      "cell_type": "code",
      "source": [
        "print(data.columns)\n",
        "data.info()"
      ],
      "metadata": {
        "colab": {
          "base_uri": "https://localhost:8080/"
        },
        "id": "4PnDijVnNBHA",
        "outputId": "e32c1bb7-0355-4c81-f996-a87863046b9a"
      },
      "execution_count": 148,
      "outputs": [
        {
          "output_type": "stream",
          "name": "stdout",
          "text": [
            "Index(['age', 'sex', 'cp', 'trestbps', 'chol', 'fbs', 'restecg', 'thalach',\n",
            "       'exang', 'oldpeak', 'slope', 'ca', 'thal', 'target'],\n",
            "      dtype='object')\n",
            "<class 'pandas.core.frame.DataFrame'>\n",
            "RangeIndex: 1025 entries, 0 to 1024\n",
            "Data columns (total 14 columns):\n",
            " #   Column    Non-Null Count  Dtype  \n",
            "---  ------    --------------  -----  \n",
            " 0   age       1025 non-null   int64  \n",
            " 1   sex       1025 non-null   int64  \n",
            " 2   cp        1025 non-null   int64  \n",
            " 3   trestbps  1025 non-null   int64  \n",
            " 4   chol      1025 non-null   int64  \n",
            " 5   fbs       1025 non-null   int64  \n",
            " 6   restecg   1025 non-null   int64  \n",
            " 7   thalach   1025 non-null   int64  \n",
            " 8   exang     1025 non-null   int64  \n",
            " 9   oldpeak   1025 non-null   float64\n",
            " 10  slope     1025 non-null   int64  \n",
            " 11  ca        1025 non-null   int64  \n",
            " 12  thal      1025 non-null   int64  \n",
            " 13  target    1025 non-null   int64  \n",
            "dtypes: float64(1), int64(13)\n",
            "memory usage: 112.2 KB\n"
          ]
        }
      ]
    },
    {
      "cell_type": "code",
      "source": [
        "print(\"Original: \\n\",data.describe())"
      ],
      "metadata": {
        "id": "hLTFkxKobgoq",
        "colab": {
          "base_uri": "https://localhost:8080/"
        },
        "outputId": "48cb60d3-f7ba-47c0-afdd-ae753703b4a7"
      },
      "execution_count": 149,
      "outputs": [
        {
          "output_type": "stream",
          "name": "stdout",
          "text": [
            "Original: \n",
            "                age          sex           cp     trestbps        chol  \\\n",
            "count  1025.000000  1025.000000  1025.000000  1025.000000  1025.00000   \n",
            "mean     54.434146     0.695610     0.942439   131.611707   246.00000   \n",
            "std       9.072290     0.460373     1.029641    17.516718    51.59251   \n",
            "min      29.000000     0.000000     0.000000    94.000000   126.00000   \n",
            "25%      48.000000     0.000000     0.000000   120.000000   211.00000   \n",
            "50%      56.000000     1.000000     1.000000   130.000000   240.00000   \n",
            "75%      61.000000     1.000000     2.000000   140.000000   275.00000   \n",
            "max      77.000000     1.000000     3.000000   200.000000   564.00000   \n",
            "\n",
            "               fbs      restecg      thalach        exang      oldpeak  \\\n",
            "count  1025.000000  1025.000000  1025.000000  1025.000000  1025.000000   \n",
            "mean      0.149268     0.529756   149.114146     0.336585     1.071512   \n",
            "std       0.356527     0.527878    23.005724     0.472772     1.175053   \n",
            "min       0.000000     0.000000    71.000000     0.000000     0.000000   \n",
            "25%       0.000000     0.000000   132.000000     0.000000     0.000000   \n",
            "50%       0.000000     1.000000   152.000000     0.000000     0.800000   \n",
            "75%       0.000000     1.000000   166.000000     1.000000     1.800000   \n",
            "max       1.000000     2.000000   202.000000     1.000000     6.200000   \n",
            "\n",
            "             slope           ca         thal       target  \n",
            "count  1025.000000  1025.000000  1025.000000  1025.000000  \n",
            "mean      1.385366     0.754146     2.323902     0.513171  \n",
            "std       0.617755     1.030798     0.620660     0.500070  \n",
            "min       0.000000     0.000000     0.000000     0.000000  \n",
            "25%       1.000000     0.000000     2.000000     0.000000  \n",
            "50%       1.000000     0.000000     2.000000     1.000000  \n",
            "75%       2.000000     1.000000     3.000000     1.000000  \n",
            "max       2.000000     4.000000     3.000000     1.000000  \n"
          ]
        }
      ]
    },
    {
      "cell_type": "markdown",
      "source": [
        "#[*] Detailed observation from the data:"
      ],
      "metadata": {
        "id": "dYo5tqUQWvBk"
      }
    },
    {
      "cell_type": "code",
      "source": [
        "#Checking if there is any missing values\n",
        "print(data.isnull().sum())\n",
        "# print(data2)"
      ],
      "metadata": {
        "colab": {
          "base_uri": "https://localhost:8080/"
        },
        "id": "g2DKpSVta7eG",
        "outputId": "dfc0ff3b-bfb2-46c8-a937-cfab4197e439"
      },
      "execution_count": 150,
      "outputs": [
        {
          "output_type": "stream",
          "name": "stdout",
          "text": [
            "age         0\n",
            "sex         0\n",
            "cp          0\n",
            "trestbps    0\n",
            "chol        0\n",
            "fbs         0\n",
            "restecg     0\n",
            "thalach     0\n",
            "exang       0\n",
            "oldpeak     0\n",
            "slope       0\n",
            "ca          0\n",
            "thal        0\n",
            "target      0\n",
            "dtype: int64\n"
          ]
        }
      ]
    },
    {
      "cell_type": "code",
      "source": [
        "#grouping the mean of the features of the data according to the target value, here it (0 or 1) or (Well or Unwell)\n",
        "print(data.groupby('target').mean())"
      ],
      "metadata": {
        "colab": {
          "base_uri": "https://localhost:8080/"
        },
        "id": "Drv5GwSdWa33",
        "outputId": "16e791d2-52e9-4f7d-fa0e-7c7161769758"
      },
      "execution_count": 151,
      "outputs": [
        {
          "output_type": "stream",
          "name": "stdout",
          "text": [
            "              age       sex        cp    trestbps        chol       fbs  \\\n",
            "target                                                                    \n",
            "0       56.569138  0.827655  0.482966  134.106212  251.292585  0.164329   \n",
            "1       52.408745  0.570342  1.378327  129.245247  240.979087  0.134981   \n",
            "\n",
            "         restecg     thalach     exang   oldpeak     slope        ca      thal  \n",
            "target                                                                          \n",
            "0       0.456914  139.130261  0.549098  1.600200  1.166333  1.158317  2.539078  \n",
            "1       0.598859  158.585551  0.134981  0.569962  1.593156  0.370722  2.119772  \n"
          ]
        }
      ]
    },
    {
      "cell_type": "markdown",
      "source": [
        "#[*] Assuming the target variable is 'Heart_ stroke'\n",
        "#[*] Here, 0 --> Good Heart and 1 --> Bad Heart\n"
      ],
      "metadata": {
        "id": "-lbzto4g5VfG"
      }
    },
    {
      "cell_type": "code",
      "source": [
        "data['target'].value_counts()"
      ],
      "metadata": {
        "colab": {
          "base_uri": "https://localhost:8080/"
        },
        "id": "W5GhCrkfplUk",
        "outputId": "a1fe2f61-9e8f-4023-ea71-af9c80aded95"
      },
      "execution_count": 152,
      "outputs": [
        {
          "output_type": "execute_result",
          "data": {
            "text/plain": [
              "1    526\n",
              "0    499\n",
              "Name: target, dtype: int64"
            ]
          },
          "metadata": {},
          "execution_count": 152
        }
      ]
    },
    {
      "cell_type": "markdown",
      "source": [
        "##[*] When a column is droped, axix = 1\n",
        "##[*] while dropping a row the, axis = 0\n",
        "##[*] drop() method  "
      ],
      "metadata": {
        "id": "PvHt3JgRHoAV"
      }
    },
    {
      "cell_type": "markdown",
      "source": [
        "#[*] sklearn dependencies:"
      ],
      "metadata": {
        "id": "GB1Gppf6q76-"
      }
    },
    {
      "cell_type": "code",
      "source": [
        "#removing all the rows containing missing values and storing it to cln_data variable\n",
        "# data = data.dropna()\n",
        "# print(data)\n",
        "data.describe()\n",
        "print(data.isnull().sum())"
      ],
      "metadata": {
        "colab": {
          "base_uri": "https://localhost:8080/"
        },
        "id": "5ecMrLcpnPMJ",
        "outputId": "8e81fea8-0998-41e4-81aa-77be1eb38894"
      },
      "execution_count": 153,
      "outputs": [
        {
          "output_type": "stream",
          "name": "stdout",
          "text": [
            "age         0\n",
            "sex         0\n",
            "cp          0\n",
            "trestbps    0\n",
            "chol        0\n",
            "fbs         0\n",
            "restecg     0\n",
            "thalach     0\n",
            "exang       0\n",
            "oldpeak     0\n",
            "slope       0\n",
            "ca          0\n",
            "thal        0\n",
            "target      0\n",
            "dtype: int64\n"
          ]
        }
      ]
    },
    {
      "cell_type": "code",
      "source": [
        "#Spiting the Features and the target:\n",
        "X = data.drop(columns = 'target', axis=1)\n",
        "Y = data['target']\n",
        "# print(X)\n",
        "# print(Y)"
      ],
      "metadata": {
        "id": "ttZzbo4WGngd"
      },
      "execution_count": 154,
      "outputs": []
    },
    {
      "cell_type": "markdown",
      "source": [],
      "metadata": {
        "id": "z08oMaa0JLP7"
      }
    },
    {
      "cell_type": "code",
      "source": [
        "scaler = MinMaxScaler()\n",
        "X = pd.DataFrame(scaler.fit_transform(X) , columns = X.columns)\n",
        "Y = data['target']"
      ],
      "metadata": {
        "id": "rRWOpSKcOEoL"
      },
      "execution_count": 155,
      "outputs": []
    },
    {
      "cell_type": "code",
      "source": [
        "# Splitting the Data into Training and Test data\n",
        "x_train, x_test, y_train, y_test = train_test_split(X, Y, train_size=0.2, stratify=Y, random_state=42)\n",
        "\n",
        "# y_train.value_counts().plot.pie(autopct = '%.2f')"
      ],
      "metadata": {
        "id": "DuNJAaCm4Q6r"
      },
      "execution_count": 156,
      "outputs": []
    },
    {
      "cell_type": "code",
      "source": [
        "print(X.shape, x_train.shape, x_test.shape)"
      ],
      "metadata": {
        "colab": {
          "base_uri": "https://localhost:8080/"
        },
        "id": "EeBtmCmsFuN8",
        "outputId": "a193b28a-97f4-4ef7-de5f-0f0379b8f446"
      },
      "execution_count": 157,
      "outputs": [
        {
          "output_type": "stream",
          "name": "stdout",
          "text": [
            "(1025, 13) (205, 13) (820, 13)\n"
          ]
        }
      ]
    },
    {
      "cell_type": "code",
      "source": [
        "# sm = SMOTE(random_state=0)\n",
        "# x_train , y_train = sm.fit_resample(x_train , y_train)"
      ],
      "metadata": {
        "id": "FJGagoKzFYY_"
      },
      "execution_count": 158,
      "outputs": []
    },
    {
      "cell_type": "markdown",
      "source": [
        "#[*] Model Training:"
      ],
      "metadata": {
        "id": "o41qYQXiJlZd"
      }
    },
    {
      "cell_type": "code",
      "source": [
        "from sklearn.linear_model import LogisticRegression\n",
        "from sklearn.svm import SVC\n",
        "from sklearn.tree import DecisionTreeClassifier\n",
        "from sklearn.neighbors import KNeighborsClassifier"
      ],
      "metadata": {
        "id": "QLx_VedSieoD"
      },
      "execution_count": 159,
      "outputs": []
    },
    {
      "cell_type": "markdown",
      "source": [
        "#LOGISTIC REGRESSION"
      ],
      "metadata": {
        "id": "axWK0OnihJ9h"
      }
    },
    {
      "cell_type": "code",
      "source": [
        "lr_model = LogisticRegression()\n",
        "\n",
        "lr_model.fit(x_train, y_train)\n",
        "\n",
        "# Acurracy for Training data\n",
        "lr_train_pred = lr_model.predict(x_train)\n",
        "train_accuracy = accuracy_score(lr_train_pred, y_train)\n",
        "print(\"Training Accuracy:\", train_accuracy)\n",
        "\n",
        "# Acurracy for Testing data\n",
        "lr_test_pred = lr_model.predict(x_test)\n",
        "test_accuracy = accuracy_score(y_test, lr_test_pred)\n",
        "print(\"Testing Accuracy:\", test_accuracy)\n",
        "\n",
        "print(\"\\nMean_Squared_Error: \",mean_squared_error(y_test, lr_test_pred))\n",
        "\n",
        "print(\"\\nConfusion_Matrix: \\n\",confusion_matrix(y_test, lr_test_pred))\n",
        "\n",
        "# Assuming 'y_test' contains the actual labels and 'y_pred' contains the predicted labels\n",
        "precision = precision_score(y_test, lr_test_pred)\n",
        "recall = recall_score(y_test, lr_test_pred)\n",
        "f1 = f1_score(y_test, lr_test_pred)\n",
        "\n",
        "print(\"\\nPrecision:\", precision)\n",
        "print(\"Recall:\", recall)\n",
        "print(\"F1 Score:\", f1)\n"
      ],
      "metadata": {
        "id": "R_oebc1DJVME",
        "colab": {
          "base_uri": "https://localhost:8080/"
        },
        "outputId": "0200dbca-619c-494a-ca85-a74995f41bfa"
      },
      "execution_count": 160,
      "outputs": [
        {
          "output_type": "stream",
          "name": "stdout",
          "text": [
            "Training Accuracy: 0.8341463414634146\n",
            "Testing Accuracy: 0.8219512195121951\n",
            "\n",
            "Mean_Squared_Error:  0.17804878048780487\n",
            "\n",
            "Confusion_Matrix: \n",
            " [[306  93]\n",
            " [ 53 368]]\n",
            "\n",
            "Precision: 0.7982646420824295\n",
            "Recall: 0.8741092636579573\n",
            "F1 Score: 0.8344671201814059\n"
          ]
        }
      ]
    },
    {
      "cell_type": "markdown",
      "source": [
        "#SVM(Support Vector Machine)"
      ],
      "metadata": {
        "id": "JjlB-q47hw9_"
      }
    },
    {
      "cell_type": "code",
      "source": [
        "svm_model = SVC()\n",
        "svm_model.fit(x_train, y_train)\n",
        "\n",
        "# Acurracy for Training data\n",
        "svm_train_pred = svm_model.predict(x_train)\n",
        "train_accuracy = accuracy_score(svm_train_pred, y_train)\n",
        "print(\"Training Accuracy:\", train_accuracy)\n",
        "\n",
        "# Acurracy for Testing data\n",
        "svm_test_pred = svm_model.predict(x_test)\n",
        "test_accuracy = accuracy_score(y_test, svm_test_pred)\n",
        "print(\"Testing Accuracy:\", test_accuracy)\n",
        "\n",
        "print(\"\\nMean_Squared_Error: \",mean_squared_error(y_test, svm_test_pred))\n",
        "\n",
        "print(\"\\nConfusion_Matrix: \\n\",confusion_matrix(y_test, svm_test_pred))\n",
        "\n",
        "# Assuming 'y_test' contains the actual labels and 'svm_test_pred' contains the predicted labels\n",
        "precision = precision_score(y_test, svm_test_pred)\n",
        "recall = recall_score(y_test, svm_test_pred)\n",
        "f1 = f1_score(y_test, svm_test_pred)\n",
        "\n",
        "print(\"\\nPrecision:\", precision)\n",
        "print(\"Recall:\", recall)\n",
        "print(\"F1 Score:\", f1)\n"
      ],
      "metadata": {
        "colab": {
          "base_uri": "https://localhost:8080/"
        },
        "id": "81gxBPL9hw-A",
        "outputId": "39848ad5-3ee3-4f20-d750-08db629537fe"
      },
      "execution_count": 161,
      "outputs": [
        {
          "output_type": "stream",
          "name": "stdout",
          "text": [
            "Training Accuracy: 0.9317073170731708\n",
            "Testing Accuracy: 0.8609756097560975\n",
            "\n",
            "Mean_Squared_Error:  0.13902439024390245\n",
            "\n",
            "Confusion_Matrix: \n",
            " [[330  69]\n",
            " [ 45 376]]\n",
            "\n",
            "Precision: 0.8449438202247191\n",
            "Recall: 0.8931116389548693\n",
            "F1 Score: 0.8683602771362586\n"
          ]
        }
      ]
    },
    {
      "cell_type": "markdown",
      "source": [
        "# Decision Tree"
      ],
      "metadata": {
        "id": "IQxf574hjYCb"
      }
    },
    {
      "cell_type": "code",
      "source": [
        "dt_model = DecisionTreeClassifier()\n",
        "\n",
        "dt_model.fit(x_train, y_train)\n",
        "\n",
        "# Acurracy for Training data\n",
        "\n",
        "dt_train_pred = dt_model.predict(x_train)\n",
        "train_accuracy = accuracy_score(dt_train_pred, y_train)\n",
        "print(\"Training Accuracy:\", train_accuracy)\n",
        "\n",
        "# Acurracy for Testing data\n",
        "\n",
        "dt_test_pred = dt_model.predict(x_test)\n",
        "test_accuracy = accuracy_score(y_test, dt_test_pred)\n",
        "print(\"Testing Accuracy:\", test_accuracy)\n",
        "\n",
        "print(\"\\nMean_Squared_Error: \",mean_squared_error(y_test, dt_test_pred))\n",
        "\n",
        "\n",
        "print(\"\\nConfusion_Matrix: \\n\",confusion_matrix(y_test, dt_test_pred))\n",
        "\n",
        "# Assuming 'y_test' contains the actual labels and 'y_pred' contains the predicted labels\n",
        "\n",
        "precision = precision_score(y_test, dt_test_pred)\n",
        "recall = recall_score(y_test, dt_test_pred)\n",
        "f1 = f1_score(y_test, dt_test_pred)\n",
        "\n",
        "print(\"\\nPrecision:\", precision)\n",
        "print(\"Recall:\", recall)\n",
        "print(\"F1 Score:\", f1)\n"
      ],
      "metadata": {
        "colab": {
          "base_uri": "https://localhost:8080/"
        },
        "id": "aPf5UsNYjKwT",
        "outputId": "ac46065c-3c70-48f8-a98d-aa8e44e2ca49"
      },
      "execution_count": 162,
      "outputs": [
        {
          "output_type": "stream",
          "name": "stdout",
          "text": [
            "Training Accuracy: 1.0\n",
            "Testing Accuracy: 0.8134146341463414\n",
            "\n",
            "Mean_Squared_Error:  0.18658536585365854\n",
            "\n",
            "Confusion_Matrix: \n",
            " [[318  81]\n",
            " [ 72 349]]\n",
            "\n",
            "Precision: 0.8116279069767441\n",
            "Recall: 0.828978622327791\n",
            "F1 Score: 0.8202115158636897\n"
          ]
        }
      ]
    },
    {
      "cell_type": "markdown",
      "source": [
        "# KNN"
      ],
      "metadata": {
        "id": "JcMcxTuemLmc"
      }
    },
    {
      "cell_type": "code",
      "source": [
        "knn_model = KNeighborsClassifier()\n",
        "\n",
        "knn_model.fit(x_train, y_train)\n",
        "\n",
        "# Acurracy for Training data\n",
        "\n",
        "knn_train_pred = knn_model.predict(x_train)\n",
        "train_accuracy = accuracy_score(knn_train_pred, y_train)\n",
        "print(\"Training Accuracy:\", train_accuracy)\n",
        "\n",
        "# Acurracy for Testing data\n",
        "\n",
        "knn_test_pred = knn_model.predict(x_test)\n",
        "test_accuracy = accuracy_score(y_test, knn_test_pred)\n",
        "print(\"Testing Accuracy:\", test_accuracy)\n",
        "\n",
        "print(\"\\nMean_Squared_Error: \",mean_squared_error(y_test, knn_test_pred))\n",
        "\n",
        "\n",
        "print(\"\\nConfusion_Matrix: \\n\",confusion_matrix(y_test, knn_test_pred))\n",
        "\n",
        "# Assuming 'y_test' contains the actual labels and 'y_pred' contains the predicted labels\n",
        "\n",
        "precision = precision_score(y_test, knn_test_pred)\n",
        "recall = recall_score(y_test, knn_test_pred)\n",
        "f1 = f1_score(y_test, knn_test_pred)\n",
        "\n",
        "print(\"\\nPrecision:\", precision)\n",
        "print(\"Recall:\", recall)\n",
        "print(\"F1 Score:\", f1)\n"
      ],
      "metadata": {
        "colab": {
          "base_uri": "https://localhost:8080/"
        },
        "id": "W70WwnkFmDk9",
        "outputId": "e00d4a33-d117-4388-f4b3-cc389ac3162f"
      },
      "execution_count": 163,
      "outputs": [
        {
          "output_type": "stream",
          "name": "stdout",
          "text": [
            "Training Accuracy: 0.9024390243902439\n",
            "Testing Accuracy: 0.8609756097560975\n",
            "\n",
            "Mean_Squared_Error:  0.13902439024390245\n",
            "\n",
            "Confusion_Matrix: \n",
            " [[337  62]\n",
            " [ 52 369]]\n",
            "\n",
            "Precision: 0.8561484918793504\n",
            "Recall: 0.8764845605700713\n",
            "F1 Score: 0.8661971830985917\n"
          ]
        }
      ]
    },
    {
      "cell_type": "markdown",
      "source": [
        "#[*] Prediptic system"
      ],
      "metadata": {
        "id": "5-CRoor08ES6"
      }
    },
    {
      "cell_type": "code",
      "source": [
        "DATA = [52,1,1,134,201,0,1,158,0,0.8,2,1,2]"
      ],
      "metadata": {
        "id": "SFqZYxqpTIS-"
      },
      "execution_count": 164,
      "outputs": []
    },
    {
      "cell_type": "code",
      "source": [
        "# print(DATA)\n"
      ],
      "metadata": {
        "id": "ED95VZleViD3"
      },
      "execution_count": 165,
      "outputs": []
    },
    {
      "cell_type": "code",
      "source": [
        "DATA_as_np_array = np.asarray(DATA)\n",
        "\n",
        "# #reshaping the array as prediction is only for 1 instance\n",
        "DATA_reshape = DATA_as_np_array.reshape(1,-1)\n",
        "\n",
        "std_DATA = scaler.transform(DATA_reshape)\n",
        "# # print(std_DATA)\n",
        "\n",
        "lr_pred = lr_model.predict(DATA_reshape)\n",
        "print(\"Logistic Regression: \",lr_pred)\n",
        "svm_pred = svm_model.predict(std_DATA)\n",
        "print(\"Support Vector Machine \",svm_pred)\n",
        "dt_pred = dt_model.predict(std_DATA)\n",
        "print(\"Decision Tree: \",dt_pred)\n",
        "knn_pred = knn_model.predict(std_DATA)\n",
        "print(\"KNN: \",knn_pred)\n",
        "\n",
        "\n",
        "# if (lr_pred[0] == 0):\n",
        "#   print(\"The person does not have heart disease.\")\n",
        "# else:\n",
        "#   # print(\"The person has heart disease.\")"
      ],
      "metadata": {
        "id": "JWBlvPVpYV5U"
      },
      "execution_count": 166,
      "outputs": []
    },
    {
      "cell_type": "code",
      "source": [
        "print(\"Logistic_Regression_MODEL: \\n\",metrics.classification_report(y_test, lr_test_pred))\n",
        "print(\"Support_Vector_Mechine_MODEL: \\n\",metrics.classification_report(y_test, svm_test_pred))\n",
        "print(\"Decision_Tree_MODEL: \\n\",metrics.classification_report(y_test, dt_test_pred))\n",
        "print(\"Knn_MODEL: \\n\",metrics.classification_report(y_test, knn_test_pred))"
      ],
      "metadata": {
        "id": "cvQHYa22R2I1",
        "colab": {
          "base_uri": "https://localhost:8080/"
        },
        "outputId": "583fb316-b8e0-4728-d5d4-413ebe41e56e"
      },
      "execution_count": 167,
      "outputs": [
        {
          "output_type": "stream",
          "name": "stdout",
          "text": [
            "Logistic_Regression_MODEL: \n",
            "               precision    recall  f1-score   support\n",
            "\n",
            "           0       0.85      0.77      0.81       399\n",
            "           1       0.80      0.87      0.83       421\n",
            "\n",
            "    accuracy                           0.82       820\n",
            "   macro avg       0.83      0.82      0.82       820\n",
            "weighted avg       0.82      0.82      0.82       820\n",
            "\n",
            "Support_Vector_Mechine_MODEL: \n",
            "               precision    recall  f1-score   support\n",
            "\n",
            "           0       0.88      0.83      0.85       399\n",
            "           1       0.84      0.89      0.87       421\n",
            "\n",
            "    accuracy                           0.86       820\n",
            "   macro avg       0.86      0.86      0.86       820\n",
            "weighted avg       0.86      0.86      0.86       820\n",
            "\n",
            "Decision_Tree_MODEL: \n",
            "               precision    recall  f1-score   support\n",
            "\n",
            "           0       0.82      0.80      0.81       399\n",
            "           1       0.81      0.83      0.82       421\n",
            "\n",
            "    accuracy                           0.81       820\n",
            "   macro avg       0.81      0.81      0.81       820\n",
            "weighted avg       0.81      0.81      0.81       820\n",
            "\n",
            "Knn_MODEL: \n",
            "               precision    recall  f1-score   support\n",
            "\n",
            "           0       0.87      0.84      0.86       399\n",
            "           1       0.86      0.88      0.87       421\n",
            "\n",
            "    accuracy                           0.86       820\n",
            "   macro avg       0.86      0.86      0.86       820\n",
            "weighted avg       0.86      0.86      0.86       820\n",
            "\n"
          ]
        }
      ]
    },
    {
      "cell_type": "code",
      "source": [
        "import pickle"
      ],
      "metadata": {
        "id": "xGa_9Xo8bYv-"
      },
      "execution_count": 168,
      "outputs": []
    },
    {
      "cell_type": "code",
      "source": [
        "# pickle.dump(lr_model, open('/content/drive/MyDrive/NIELIT/Heart Disease Prediction/Models/LR_Model', 'wb'))\n",
        "\n",
        "model_path = '/content/drive/MyDrive/NIELIT/Heart Disease Prediction/Models/logistic_regression_model.pkl'\n",
        "with open(model_path, 'wb') as f:\n",
        "    pickle.dump(lr_model, f)"
      ],
      "metadata": {
        "id": "k_-0yKbtcGm0"
      },
      "execution_count": 169,
      "outputs": []
    },
    {
      "cell_type": "code",
      "source": [
        "scaler_path = '/content/drive/MyDrive/NIELIT/Heart Disease Prediction/Models/scaler.pkl'\n",
        "with open(scaler_path, 'wb') as f:\n",
        "    pickle.dump(scaler, f)"
      ],
      "metadata": {
        "id": "ghEpHoxct_6j"
      },
      "execution_count": 170,
      "outputs": []
    }
  ]
}